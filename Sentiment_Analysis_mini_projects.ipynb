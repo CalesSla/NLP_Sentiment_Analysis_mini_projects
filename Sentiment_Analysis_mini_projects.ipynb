{
 "cells": [
  {
   "cell_type": "markdown",
   "id": "ccf6fb16",
   "metadata": {},
   "source": [
    "# Sebtiment Analysis deep dive. 6 mini projects."
   ]
  },
  {
   "cell_type": "markdown",
   "id": "7c9ff9bc",
   "metadata": {},
   "source": [
    "### Lesson: Curate a dataset"
   ]
  },
  {
   "cell_type": "code",
   "execution_count": null,
   "id": "5f26e5d3",
   "metadata": {},
   "outputs": [],
   "source": [
    "# Helper print function\n",
    "def pretty_print_review_and_label(i):\n",
    "    print(labels[i] + \"\\t:\\t\" + reviews[i][:80] + \"...\")\n",
    "    \n",
    "# Load reviews and labels\n",
    "g = open('reviews.txt', 'r'):\n",
    "reviews = list(map(lambda x: x[:-1], g.readlines()))\n",
    "g.close()\n",
    "\n",
    "g = open('labels.txt', 'r')\n",
    "labels"
   ]
  },
  {
   "cell_type": "code",
   "execution_count": null,
   "id": "d2baa4f5",
   "metadata": {},
   "outputs": [],
   "source": []
  }
 ],
 "metadata": {
  "kernelspec": {
   "display_name": "Python 3 (ipykernel)",
   "language": "python",
   "name": "python3"
  },
  "language_info": {
   "codemirror_mode": {
    "name": "ipython",
    "version": 3
   },
   "file_extension": ".py",
   "mimetype": "text/x-python",
   "name": "python",
   "nbconvert_exporter": "python",
   "pygments_lexer": "ipython3",
   "version": "3.10.9"
  }
 },
 "nbformat": 4,
 "nbformat_minor": 5
}
