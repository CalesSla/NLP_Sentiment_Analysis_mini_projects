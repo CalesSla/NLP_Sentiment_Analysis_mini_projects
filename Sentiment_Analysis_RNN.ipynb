{
 "cells": [
  {
   "cell_type": "markdown",
   "id": "bd2b51ef",
   "metadata": {},
   "source": [
    "# Sentiment Analysis with RNN"
   ]
  },
  {
   "cell_type": "code",
   "execution_count": 46,
   "id": "83cfb38e",
   "metadata": {},
   "outputs": [],
   "source": [
    "# Import and data read\n",
    "\n",
    "import numpy as np\n",
    "import tensorflow as tf\n",
    "\n",
    "with open('reviews.txt', 'r') as f:\n",
    "  reviews = f.read()\n",
    "with open('labels.txt', 'r') as f:\n",
    "  labels = f.read()"
   ]
  },
  {
   "cell_type": "code",
   "execution_count": 47,
   "id": "4608db7d",
   "metadata": {},
   "outputs": [
    {
     "data": {
      "text/plain": [
       "'bromwell high is a cartoon comedy . it ran at the same time as some other programs about school life  such as  teachers  . my   years in the teaching profession lead me to believe that bromwell high  '"
      ]
     },
     "execution_count": 47,
     "metadata": {},
     "output_type": "execute_result"
    }
   ],
   "source": [
    "reviews[:200]"
   ]
  },
  {
   "cell_type": "code",
   "execution_count": 48,
   "id": "2b979741",
   "metadata": {},
   "outputs": [
    {
     "data": {
      "text/plain": [
       "'bromwell high is a cartoon comedy  it ran at the same time as some other programs about school life  such as  teachers   my   years in the teaching profession lead me to believe that bromwell high  s '"
      ]
     },
     "execution_count": 48,
     "metadata": {},
     "output_type": "execute_result"
    }
   ],
   "source": [
    "# Removing punctuation\n",
    "\n",
    "from string import punctuation\n",
    "\n",
    "all_text = ''.join([c for c in reviews if c not in punctuation])\n",
    "reviews = all_text.split('\\n')\n",
    "\n",
    "all_text = ' '.join(reviews)\n",
    "words = all_text.split()\n",
    "\n",
    "all_text[:200]"
   ]
  },
  {
   "cell_type": "code",
   "execution_count": 49,
   "id": "0a456180",
   "metadata": {},
   "outputs": [
    {
     "data": {
      "text/plain": [
       "['bromwell', 'high', 'is', 'a', 'cartoon']"
      ]
     },
     "execution_count": 49,
     "metadata": {},
     "output_type": "execute_result"
    }
   ],
   "source": [
    "# Word examples\n",
    "\n",
    "words[:5]"
   ]
  },
  {
   "cell_type": "code",
   "execution_count": 50,
   "id": "5008c807",
   "metadata": {},
   "outputs": [],
   "source": [
    "# Word2int dictionary\n",
    "vocab_to_int = {k:v for v, k in enumerate(set(words), start = 1)}\n",
    "\n",
    "# Reviews to integers\n",
    "reviews_ints = [[vocab_to_int[word] for word in review.split(' ') if word in vocab_to_int.keys()] for review in reviews]\n",
    "\n",
    "# Labels to integers\n",
    "labels = [1 if label == 'positive' else 0 for label in labels.split('\\n')]"
   ]
  },
  {
   "cell_type": "code",
   "execution_count": 51,
   "id": "39956ecc",
   "metadata": {},
   "outputs": [
    {
     "name": "stdout",
     "output_type": "stream",
     "text": [
      "Zero-length reviews: 1\n",
      "Maximum review length: 2514\n",
      "Total reviews 25001\n"
     ]
    }
   ],
   "source": [
    "from collections import Counter\n",
    "\n",
    "review_lens = Counter([len(x) for x in reviews_ints])\n",
    "print('Zero-length reviews: {}'.format(review_lens[0]))\n",
    "print('Maximum review length: {}'.format(max(review_lens)))\n",
    "print('Total reviews {}'.format(len(reviews_ints)))"
   ]
  },
  {
   "cell_type": "code",
   "execution_count": 52,
   "id": "bccc9592",
   "metadata": {},
   "outputs": [
    {
     "name": "stdout",
     "output_type": "stream",
     "text": [
      "Zero-length reviews: 0\n",
      "Maximum review length: 2514\n",
      "Total reviews 25000\n"
     ]
    }
   ],
   "source": [
    "# Remove a review with the length of 0\n",
    "zero_length_review = [i for i, j in enumerate(reviews_ints) if len(j) == 0]\n",
    "for i in zero_length_review:\n",
    "  reviews_ints.pop(i)\n",
    "  labels.pop(i)\n",
    "\n",
    "review_lens = Counter([len(x) for x in reviews_ints])\n",
    "print('Zero-length reviews: {}'.format(review_lens[0]))\n",
    "print('Maximum review length: {}'.format(max(review_lens)))\n",
    "print('Total reviews {}'.format(len(reviews_ints)))"
   ]
  },
  {
   "cell_type": "code",
   "execution_count": 53,
   "id": "c2cb714c",
   "metadata": {},
   "outputs": [
    {
     "name": "stdout",
     "output_type": "stream",
     "text": [
      "[0, 0, 0, 0, 0, 0, 0, 0, 0, 0, 0, 0, 0, 0, 0, 0, 0, 0, 0, 0, 0, 0, 0, 0, 0, 0, 0, 0, 0, 0, 0, 0, 0, 0, 0, 0, 0, 0, 0, 0, 0, 0, 0, 0, 0, 0, 0, 0, 0, 0, 0, 0, 0, 0, 0, 0, 0, 0, 0, 0, 51958, 53096, 54075, 61465, 24887, 14715, 73838, 24515, 29397, 43750, 59993, 33932, 62350, 23132, 68601, 52541, 34355, 13902, 5950, 21592, 62350, 43934, 44013, 61660, 32431, 43750, 4092, 4475, 8974, 10192, 10779, 18581, 35660, 51958, 53096, 34368, 53266, 54075, 68016, 47103, 10779, 23442, 72684, 54075, 43934, 43750, 66325, 10779, 9419, 1225, 43750, 62436, 40265, 16438, 60418, 64229, 11361, 17562, 47744, 27713, 43934, 47169, 43750, 2831, 57086, 43750, 53888, 4878, 33841, 46770, 10192, 57086, 43750, 8886, 31964, 8266, 23360, 47744, 40265, 63422, 31964, 70086, 43750, 19082, 32431, 13792, 61465, 27113, 40305, 38440, 10779, 32643, 12028, 43750, 13902, 31964, 62710, 61460, 29397, 53096, 61465, 61989, 13293, 4580, 31964, 37383, 42715, 10779, 70219, 4573, 57086, 64410, 43934, 27113, 4238, 10779, 51958, 53096, 31964, 48930, 35660, 62116, 48222, 57086, 44013, 22683, 2848, 35660, 51958, 53096, 54075, 73285, 23264, 18122, 61465, 60962, 35660, 73838, 44658, 16135]\n"
     ]
    }
   ],
   "source": [
    "# Sequence padding (pre)\n",
    "\n",
    "seq_len = 200\n",
    "\n",
    "features = []\n",
    "for review in reviews_ints:\n",
    "  if len(review) > 200:\n",
    "    features.append(review[:seq_len])\n",
    "  else:\n",
    "    while len(review) < 200:\n",
    "      review.insert(0, 0)\n",
    "    features.append(review)\n",
    "    \n",
    "print(features[0])"
   ]
  },
  {
   "cell_type": "code",
   "execution_count": 11,
   "id": "ac878eb4",
   "metadata": {},
   "outputs": [
    {
     "data": {
      "text/plain": [
       "25001"
      ]
     },
     "execution_count": 11,
     "metadata": {},
     "output_type": "execute_result"
    }
   ],
   "source": [
    "len(labels)"
   ]
  },
  {
   "cell_type": "code",
   "execution_count": 22,
   "id": "10044388",
   "metadata": {},
   "outputs": [
    {
     "data": {
      "text/plain": [
       "[25000]"
      ]
     },
     "execution_count": 22,
     "metadata": {},
     "output_type": "execute_result"
    }
   ],
   "source": [
    "zero_length_review"
   ]
  },
  {
   "cell_type": "code",
   "execution_count": null,
   "id": "df462b77",
   "metadata": {},
   "outputs": [],
   "source": []
  },
  {
   "cell_type": "code",
   "execution_count": null,
   "id": "0a6bca74",
   "metadata": {},
   "outputs": [],
   "source": []
  },
  {
   "cell_type": "code",
   "execution_count": null,
   "id": "5399b1ef",
   "metadata": {},
   "outputs": [],
   "source": []
  }
 ],
 "metadata": {
  "kernelspec": {
   "display_name": "Python 3 (ipykernel)",
   "language": "python",
   "name": "python3"
  },
  "language_info": {
   "codemirror_mode": {
    "name": "ipython",
    "version": 3
   },
   "file_extension": ".py",
   "mimetype": "text/x-python",
   "name": "python",
   "nbconvert_exporter": "python",
   "pygments_lexer": "ipython3",
   "version": "3.10.9"
  }
 },
 "nbformat": 4,
 "nbformat_minor": 5
}
