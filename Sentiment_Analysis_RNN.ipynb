{
 "cells": [
  {
   "cell_type": "markdown",
   "id": "57979fdc",
   "metadata": {},
   "source": [
    "# Sentiment Analysis with RNN"
   ]
  },
  {
   "cell_type": "code",
   "execution_count": 1,
   "id": "d41531a9",
   "metadata": {},
   "outputs": [],
   "source": [
    "# Import and data read\n",
    "\n",
    "import numpy as np\n",
    "import tensorflow as tf\n",
    "\n",
    "with open('reviews.txt', 'r') as f:\n",
    "  reviews = f.read()\n",
    "with open('labels.txt', 'r') as f:\n",
    "  labels = f.read()"
   ]
  },
  {
   "cell_type": "code",
   "execution_count": 2,
   "id": "397ed103",
   "metadata": {},
   "outputs": [
    {
     "data": {
      "text/plain": [
       "'bromwell high is a cartoon comedy . it ran at the same time as some other programs about school life  such as  teachers  . my   years in the teaching profession lead me to believe that bromwell high  '"
      ]
     },
     "execution_count": 2,
     "metadata": {},
     "output_type": "execute_result"
    }
   ],
   "source": [
    "reviews[:200]"
   ]
  },
  {
   "cell_type": "code",
   "execution_count": 3,
   "id": "13a22170",
   "metadata": {},
   "outputs": [
    {
     "data": {
      "text/plain": [
       "'bromwell high is a cartoon comedy  it ran at the same time as some other programs about school life  such as  teachers   my   years in the teaching profession lead me to believe that bromwell high  s '"
      ]
     },
     "execution_count": 3,
     "metadata": {},
     "output_type": "execute_result"
    }
   ],
   "source": [
    "# Removing punctuation\n",
    "\n",
    "from string import punctuation\n",
    "\n",
    "all_text = ''.join([c for c in reviews if c not in punctuation])\n",
    "reviews = all_text.split('\\n')\n",
    "\n",
    "all_text = ' '.join(reviews)\n",
    "words = all_text.split()\n",
    "\n",
    "all_text[:200]"
   ]
  },
  {
   "cell_type": "code",
   "execution_count": 4,
   "id": "8e37e643",
   "metadata": {},
   "outputs": [
    {
     "data": {
      "text/plain": [
       "['bromwell', 'high', 'is', 'a', 'cartoon']"
      ]
     },
     "execution_count": 4,
     "metadata": {},
     "output_type": "execute_result"
    }
   ],
   "source": [
    "# Word examples\n",
    "\n",
    "words[:5]"
   ]
  },
  {
   "cell_type": "code",
   "execution_count": 5,
   "id": "36c5e83d",
   "metadata": {},
   "outputs": [],
   "source": [
    "# Word2int dictionary\n",
    "vocab_to_int = {k:v for v, k in enumerate(set(words), start = 1)}\n",
    "\n",
    "# Reviews to integers\n",
    "reviews_ints = [[vocab_to_int[word] for word in review.split(' ') if word in vocab_to_int.keys()] for review in reviews]\n",
    "\n",
    "# Labels to integers\n",
    "labels = [1 if label == 'positive' else 0 for label in labels.split('\\n')]"
   ]
  },
  {
   "cell_type": "code",
   "execution_count": 6,
   "id": "79536184",
   "metadata": {},
   "outputs": [
    {
     "name": "stdout",
     "output_type": "stream",
     "text": [
      "Zero-length reviews: 1\n",
      "Maximum review length: 2514\n",
      "Total reviews 25001\n"
     ]
    }
   ],
   "source": [
    "from collections import Counter\n",
    "\n",
    "review_lens = Counter([len(x) for x in reviews_ints])\n",
    "print('Zero-length reviews: {}'.format(review_lens[0]))\n",
    "print('Maximum review length: {}'.format(max(review_lens)))\n",
    "print('Total reviews {}'.format(len(reviews_ints)))"
   ]
  },
  {
   "cell_type": "code",
   "execution_count": 7,
   "id": "631d00e0",
   "metadata": {},
   "outputs": [
    {
     "name": "stdout",
     "output_type": "stream",
     "text": [
      "Zero-length reviews: 0\n",
      "Maximum review length: 2514\n",
      "Total reviews 25000\n"
     ]
    }
   ],
   "source": [
    "# Remove a review with the length of 0\n",
    "zero_length_review = [i for i, j in enumerate(reviews_ints) if len(j) == 0]\n",
    "for i in zero_length_review:\n",
    "  reviews_ints.pop(i)\n",
    "  labels.pop(i)\n",
    "\n",
    "review_lens = Counter([len(x) for x in reviews_ints])\n",
    "print('Zero-length reviews: {}'.format(review_lens[0]))\n",
    "print('Maximum review length: {}'.format(max(review_lens)))\n",
    "print('Total reviews {}'.format(len(reviews_ints)))"
   ]
  },
  {
   "cell_type": "code",
   "execution_count": 8,
   "id": "ce707961",
   "metadata": {},
   "outputs": [
    {
     "name": "stdout",
     "output_type": "stream",
     "text": [
      "[0, 0, 0, 0, 0, 0, 0, 0, 0, 0, 0, 0, 0, 0, 0, 0, 0, 0, 0, 0, 0, 0, 0, 0, 0, 0, 0, 0, 0, 0, 0, 0, 0, 0, 0, 0, 0, 0, 0, 0, 0, 0, 0, 0, 0, 0, 0, 0, 0, 0, 0, 0, 0, 0, 0, 0, 0, 0, 0, 0, 11729, 44182, 65695, 30458, 23579, 45374, 59461, 63915, 55629, 14774, 64623, 28068, 69945, 65465, 33135, 35441, 52312, 7342, 50771, 19012, 69945, 8039, 35014, 68913, 47299, 14774, 3326, 45514, 70094, 18425, 68379, 6715, 40137, 11729, 44182, 5095, 45747, 65695, 25267, 58493, 68379, 48854, 31721, 65695, 8039, 14774, 9060, 68379, 24179, 38202, 14774, 72551, 9720, 1178, 44866, 54901, 30092, 60443, 51334, 62538, 8039, 26185, 14774, 2744, 13047, 14774, 28337, 5523, 60568, 36033, 18425, 13047, 14774, 68166, 51412, 66585, 53828, 51334, 9720, 37482, 51412, 27915, 14774, 67160, 47299, 59814, 30458, 62326, 44629, 38982, 68379, 14775, 34648, 14774, 7342, 51412, 1352, 4840, 55629, 44182, 30458, 5829, 69734, 69757, 51412, 14286, 36569, 68379, 56937, 69824, 13047, 53899, 8039, 62326, 7452, 68379, 11729, 44182, 51412, 42513, 40137, 15760, 23352, 13047, 35014, 2379, 10805, 40137, 11729, 44182, 65695, 48467, 36867, 53708, 30458, 18348, 40137, 59461, 49687, 56254]\n"
     ]
    }
   ],
   "source": [
    "# Sequence padding (pre)\n",
    "\n",
    "seq_len = 200\n",
    "\n",
    "features = []\n",
    "for review in reviews_ints:\n",
    "  if len(review) > 200:\n",
    "    features.append(review[:seq_len])\n",
    "  else:\n",
    "    while len(review) < 200:\n",
    "      review.insert(0, 0)\n",
    "    features.append(review)\n",
    "    \n",
    "print(features[0])"
   ]
  },
  {
   "cell_type": "code",
   "execution_count": 22,
   "id": "22b9cd5a",
   "metadata": {},
   "outputs": [
    {
     "name": "stdout",
     "output_type": "stream",
     "text": [
      "\t\t\tFeature Shapes:\n",
      "Train set: \t\t(20000, 200) \n",
      "Validation set: \t(2500, 200) \n",
      "Test set: \t\t(2500, 200)\n"
     ]
    }
   ],
   "source": [
    "import random\n",
    "\n",
    "# Train-test split\n",
    "random.shuffle(reviews_ints)\n",
    "split_frac = 0.8\n",
    "\n",
    "\n",
    "train_x, val_x = np.array(features[:int(len(reviews_ints)*split_frac)]), np.array(features[int(len(reviews_ints)*split_frac):])\n",
    "train_y, val_y = np.array(labels[:int(len(labels)*split_frac)]), np.array(labels[int(len(labels)*split_frac):])\n",
    "\n",
    "val_x, test_x = np.array(val_x[:int(len(val_x)*0.5)]), np.array(val_x[int(len(val_x)*0.5):])\n",
    "val_y, test_y = np.array(val_y[:int(len(val_y)*0.5)]), np.array(val_y[int(len(val_y)*0.5):])\n",
    "\n",
    "print('\\t\\t\\tFeature Shapes:')\n",
    "print(f'Train set: \\t\\t{train_x.shape}',\n",
    "       f'\\nValidation set: \\t{val_x.shape}',\n",
    "       f'\\nTest set: \\t\\t{test_x.shape}')"
   ]
  },
  {
   "cell_type": "code",
   "execution_count": null,
   "id": "e0b9df45",
   "metadata": {},
   "outputs": [],
   "source": []
  },
  {
   "cell_type": "code",
   "execution_count": null,
   "id": "77e31a21",
   "metadata": {},
   "outputs": [],
   "source": []
  },
  {
   "cell_type": "code",
   "execution_count": null,
   "id": "a8ce0857",
   "metadata": {},
   "outputs": [],
   "source": []
  },
  {
   "cell_type": "code",
   "execution_count": null,
   "id": "72c38ba3",
   "metadata": {},
   "outputs": [],
   "source": []
  },
  {
   "cell_type": "code",
   "execution_count": null,
   "id": "fabebd4f",
   "metadata": {},
   "outputs": [],
   "source": []
  },
  {
   "cell_type": "code",
   "execution_count": null,
   "id": "cbde3e26",
   "metadata": {},
   "outputs": [],
   "source": []
  }
 ],
 "metadata": {
  "kernelspec": {
   "display_name": "Python 3 (ipykernel)",
   "language": "python",
   "name": "python3"
  },
  "language_info": {
   "codemirror_mode": {
    "name": "ipython",
    "version": 3
   },
   "file_extension": ".py",
   "mimetype": "text/x-python",
   "name": "python",
   "nbconvert_exporter": "python",
   "pygments_lexer": "ipython3",
   "version": "3.10.9"
  }
 },
 "nbformat": 4,
 "nbformat_minor": 5
}
