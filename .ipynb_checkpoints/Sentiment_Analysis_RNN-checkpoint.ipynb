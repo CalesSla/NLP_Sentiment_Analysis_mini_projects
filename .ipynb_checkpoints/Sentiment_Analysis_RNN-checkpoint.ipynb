{
 "cells": [
  {
   "cell_type": "markdown",
   "id": "ead8946f",
   "metadata": {},
   "source": [
    "# Sentiment Analysis with RNN"
   ]
  },
  {
   "cell_type": "code",
   "execution_count": 1,
   "id": "8420710b",
   "metadata": {},
   "outputs": [],
   "source": [
    "# Import and data read\n",
    "\n",
    "import numpy as np\n",
    "import tensorflow as tf\n",
    "\n",
    "with open('reviews.txt', 'r') as f:\n",
    "  reviews = f.read()\n",
    "with open('labels.txt', 'r') as f:\n",
    "  labels = f.read()"
   ]
  },
  {
   "cell_type": "code",
   "execution_count": 2,
   "id": "2b3d5a7c",
   "metadata": {},
   "outputs": [
    {
     "data": {
      "text/plain": [
       "'bromwell high is a cartoon comedy . it ran at the same time as some other programs about school life  such as  teachers  . my   years in the teaching profession lead me to believe that bromwell high  '"
      ]
     },
     "execution_count": 2,
     "metadata": {},
     "output_type": "execute_result"
    }
   ],
   "source": [
    "reviews[:200]"
   ]
  },
  {
   "cell_type": "code",
   "execution_count": 3,
   "id": "36c83e3c",
   "metadata": {},
   "outputs": [
    {
     "data": {
      "text/plain": [
       "'bromwell high is a cartoon comedy  it ran at the same time as some other programs about school life  such as  teachers   my   years in the teaching profession lead me to believe that bromwell high  s '"
      ]
     },
     "execution_count": 3,
     "metadata": {},
     "output_type": "execute_result"
    }
   ],
   "source": [
    "# Removing punctuation\n",
    "\n",
    "from string import punctuation\n",
    "\n",
    "all_text = ''.join([c for c in reviews if c not in punctuation])\n",
    "reviews = all_text.split('\\n')\n",
    "\n",
    "all_text = ' '.join(reviews)\n",
    "words = all_text.split()\n",
    "\n",
    "all_text[:200]"
   ]
  },
  {
   "cell_type": "code",
   "execution_count": 4,
   "id": "86815478",
   "metadata": {},
   "outputs": [
    {
     "data": {
      "text/plain": [
       "['bromwell', 'high', 'is', 'a', 'cartoon']"
      ]
     },
     "execution_count": 4,
     "metadata": {},
     "output_type": "execute_result"
    }
   ],
   "source": [
    "# Word examples\n",
    "\n",
    "words[:5]"
   ]
  },
  {
   "cell_type": "code",
   "execution_count": 5,
   "id": "855c4d2a",
   "metadata": {},
   "outputs": [],
   "source": [
    "# Word2int dictionary\n",
    "vocab_to_int = {k:v for v, k in enumerate(set(words), start = 1)}\n",
    "\n",
    "# Reviews to integers\n",
    "reviews_ints = [[vocab_to_int[word] for word in review.split(' ') if word in vocab_to_int.keys()] for review in reviews]\n",
    "\n",
    "# Labels to integers\n",
    "labels = [1 if label == 'positive' else 0 for label in labels.split('\\n')]"
   ]
  },
  {
   "cell_type": "code",
   "execution_count": 6,
   "id": "249b93c6",
   "metadata": {},
   "outputs": [
    {
     "name": "stdout",
     "output_type": "stream",
     "text": [
      "Zero-length reviews: 1\n",
      "Maximum review length: 2514\n",
      "Total reviews 25001\n"
     ]
    }
   ],
   "source": [
    "from collections import Counter\n",
    "\n",
    "review_lens = Counter([len(x) for x in reviews_ints])\n",
    "print('Zero-length reviews: {}'.format(review_lens[0]))\n",
    "print('Maximum review length: {}'.format(max(review_lens)))\n",
    "print('Total reviews {}'.format(len(reviews_ints)))"
   ]
  },
  {
   "cell_type": "code",
   "execution_count": 7,
   "id": "3000566d",
   "metadata": {},
   "outputs": [
    {
     "name": "stdout",
     "output_type": "stream",
     "text": [
      "Zero-length reviews: 0\n",
      "Maximum review length: 2514\n",
      "Total reviews 25000\n"
     ]
    }
   ],
   "source": [
    "# Remove a review with the length of 0\n",
    "zero_length_review = [i for i, j in enumerate(reviews_ints) if len(j) == 0]\n",
    "for i in zero_length_review:\n",
    "  reviews_ints.pop(i)\n",
    "  labels.pop(i)\n",
    "\n",
    "review_lens = Counter([len(x) for x in reviews_ints])\n",
    "print('Zero-length reviews: {}'.format(review_lens[0]))\n",
    "print('Maximum review length: {}'.format(max(review_lens)))\n",
    "print('Total reviews {}'.format(len(reviews_ints)))"
   ]
  },
  {
   "cell_type": "code",
   "execution_count": 8,
   "id": "c81eff4f",
   "metadata": {},
   "outputs": [
    {
     "name": "stdout",
     "output_type": "stream",
     "text": [
      "[0, 0, 0, 0, 0, 0, 0, 0, 0, 0, 0, 0, 0, 0, 0, 0, 0, 0, 0, 0, 0, 0, 0, 0, 0, 0, 0, 0, 0, 0, 0, 0, 0, 0, 0, 0, 0, 0, 0, 0, 0, 0, 0, 0, 0, 0, 0, 0, 0, 0, 0, 0, 0, 0, 0, 0, 0, 0, 0, 0, 61516, 32733, 63787, 18959, 32011, 22814, 58432, 44263, 27680, 62052, 53090, 20527, 22312, 62128, 10565, 69134, 15875, 32429, 52584, 11734, 22312, 22800, 23742, 22868, 32614, 62052, 42717, 60036, 22828, 23730, 52130, 49763, 55941, 61516, 32733, 43525, 6525, 63787, 4961, 51392, 52130, 13151, 35390, 63787, 22800, 62052, 4549, 52130, 27652, 65618, 62052, 31236, 25057, 73279, 57556, 36276, 46225, 46439, 29076, 60381, 22800, 22162, 62052, 53378, 5164, 62052, 10059, 67397, 31153, 4327, 23730, 5164, 62052, 46324, 8054, 39339, 14255, 29076, 25057, 18745, 8054, 25641, 62052, 27146, 32614, 6883, 18959, 37370, 73563, 44386, 52130, 11130, 63175, 62052, 32429, 8054, 31580, 62946, 27680, 32733, 18959, 40814, 27909, 47514, 8054, 47205, 49654, 52130, 11814, 4181, 5164, 29702, 22800, 37370, 1035, 52130, 61516, 32733, 8054, 56447, 55941, 62979, 20462, 5164, 23742, 61254, 26343, 55941, 61516, 32733, 63787, 26206, 31375, 71366, 18959, 20945, 55941, 58432, 21325, 48613]\n"
     ]
    }
   ],
   "source": [
    "# Sequence padding (pre)\n",
    "\n",
    "seq_len = 200\n",
    "\n",
    "features = []\n",
    "for review in reviews_ints:\n",
    "  if len(review) > 200:\n",
    "    features.append(review[:seq_len])\n",
    "  else:\n",
    "    while len(review) < 200:\n",
    "      review.insert(0, 0)\n",
    "    features.append(review)\n",
    "    \n",
    "print(features[0])"
   ]
  },
  {
   "cell_type": "code",
   "execution_count": 9,
   "id": "0f914ad5",
   "metadata": {},
   "outputs": [
    {
     "name": "stdout",
     "output_type": "stream",
     "text": [
      "\t\t\tFeature Shapes:\n",
      "Train set: \t\t(20000, 200) \n",
      "Validation set: \t(10000, 200) \n",
      "Test set: \t\t(10001, 200)\n"
     ]
    }
   ],
   "source": [
    "import random\n",
    "\n",
    "# Train-test split\n",
    "random.shuffle(reviews_ints)\n",
    "split_frac = 0.8\n",
    "\n",
    "\n",
    "train_x, val_x = np.array(features[:int(len(reviews_ints)*split_frac)]), np.array(features[int(len(reviews_ints)*(1 - split_frac)):])\n",
    "train_y, val_y = np.array(labels[:int(len(labels)*split_frac)]), np.array(labels[int(len(labels)*(1 - split_frac)):])\n",
    "\n",
    "# val_x, test_x = np.array(val_x[:int(len(val_x)*0.5)]), np.array(val_x[int(len(val_x)*0.5):])\n",
    "# val_y, test_y = np.array(val_y[:int(len(val_y)*0.5)]), np.array(val_y[int(len(val_x)*0.5):])\n",
    "\n",
    "print('\\t\\t\\tFeature Shapes:')\n",
    "print(f'Train set: \\t\\t{train_x.shape}',\n",
    "       f'\\nValidation set: \\t{val_x.shape}')"
   ]
  },
  {
   "cell_type": "code",
   "execution_count": null,
   "id": "ecfadc33",
   "metadata": {},
   "outputs": [],
   "source": []
  },
  {
   "cell_type": "code",
   "execution_count": null,
   "id": "895cd56a",
   "metadata": {},
   "outputs": [],
   "source": []
  },
  {
   "cell_type": "code",
   "execution_count": null,
   "id": "4bf12481",
   "metadata": {},
   "outputs": [],
   "source": []
  },
  {
   "cell_type": "code",
   "execution_count": null,
   "id": "4b958a43",
   "metadata": {},
   "outputs": [],
   "source": []
  },
  {
   "cell_type": "code",
   "execution_count": null,
   "id": "dcf338c9",
   "metadata": {},
   "outputs": [],
   "source": []
  }
 ],
 "metadata": {
  "kernelspec": {
   "display_name": "Python 3 (ipykernel)",
   "language": "python",
   "name": "python3"
  },
  "language_info": {
   "codemirror_mode": {
    "name": "ipython",
    "version": 3
   },
   "file_extension": ".py",
   "mimetype": "text/x-python",
   "name": "python",
   "nbconvert_exporter": "python",
   "pygments_lexer": "ipython3",
   "version": "3.10.9"
  }
 },
 "nbformat": 4,
 "nbformat_minor": 5
}
