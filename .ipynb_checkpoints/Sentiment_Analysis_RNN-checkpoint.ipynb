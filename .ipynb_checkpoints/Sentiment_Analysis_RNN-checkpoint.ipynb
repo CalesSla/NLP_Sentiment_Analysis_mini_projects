{
 "cells": [
  {
   "cell_type": "markdown",
   "id": "f8237c74",
   "metadata": {},
   "source": [
    "# Sentiment Analysis with RNN"
   ]
  },
  {
   "cell_type": "code",
   "execution_count": 65,
   "id": "0d7fdfa1",
   "metadata": {},
   "outputs": [],
   "source": [
    "# Import and data read\n",
    "\n",
    "import numpy as np\n",
    "import tensorflow as tf\n",
    "\n",
    "with open('reviews.txt', 'r') as f:\n",
    "  reviews = f.read()\n",
    "with open('labels.txt', 'r') as f:\n",
    "  labels = f.read()"
   ]
  },
  {
   "cell_type": "code",
   "execution_count": 66,
   "id": "7b3d7cce",
   "metadata": {},
   "outputs": [
    {
     "data": {
      "text/plain": [
       "'bromwell high is a cartoon comedy . it ran at the same time as some other programs about school life  such as  teachers  . my   years in the teaching profession lead me to believe that bromwell high  '"
      ]
     },
     "execution_count": 66,
     "metadata": {},
     "output_type": "execute_result"
    }
   ],
   "source": [
    "reviews[:200]"
   ]
  },
  {
   "cell_type": "code",
   "execution_count": 67,
   "id": "960c9c17",
   "metadata": {},
   "outputs": [
    {
     "data": {
      "text/plain": [
       "'bromwell high is a cartoon comedy  it ran at the same time as some other programs about school life  such as  teachers   my   years in the teaching profession lead me to believe that bromwell high  s '"
      ]
     },
     "execution_count": 67,
     "metadata": {},
     "output_type": "execute_result"
    }
   ],
   "source": [
    "# Removing punctuation\n",
    "\n",
    "from string import punctuation\n",
    "\n",
    "all_text = ''.join([c for c in reviews if c not in punctuation])\n",
    "reviews = all_text.split('\\n')\n",
    "\n",
    "all_text = ' '.join(reviews)\n",
    "words = all_text.split()\n",
    "\n",
    "all_text[:200]"
   ]
  },
  {
   "cell_type": "code",
   "execution_count": 68,
   "id": "bc762a05",
   "metadata": {},
   "outputs": [
    {
     "data": {
      "text/plain": [
       "['bromwell', 'high', 'is', 'a', 'cartoon']"
      ]
     },
     "execution_count": 68,
     "metadata": {},
     "output_type": "execute_result"
    }
   ],
   "source": [
    "# Word examples\n",
    "\n",
    "words[:5]"
   ]
  },
  {
   "cell_type": "code",
   "execution_count": 70,
   "id": "c77adf2e",
   "metadata": {},
   "outputs": [],
   "source": [
    "# Word2int dictionary\n",
    "vocab_to_int = {k:v for v, k in enumerate(set(words), start = 1)}\n",
    "\n",
    "# Reviews to integers\n",
    "reviews_ints = [[vocab_to_int[word] for word in review.split(' ') if word in vocab_to_int.keys()] for review in reviews]\n",
    "\n",
    "# Labels to integers\n",
    "labels = [1 if label == 'positive' else 0 for label in labels.split('\\n')]"
   ]
  },
  {
   "cell_type": "code",
   "execution_count": 82,
   "id": "a9f3583f",
   "metadata": {},
   "outputs": [
    {
     "name": "stdout",
     "output_type": "stream",
     "text": [
      "Zero-length reviews: 0\n",
      "Maximum review length: 2514\n"
     ]
    }
   ],
   "source": [
    "from collections import Counter\n",
    "\n",
    "review_lens = Counter([len(x) for x in reviews_ints])\n",
    "print('Zero-length reviews: {}'.format(review_lens[0]))\n",
    "print('Maximum review length: {}'.format(max(review_lens)))"
   ]
  },
  {
   "cell_type": "code",
   "execution_count": 85,
   "id": "0f2c7b41",
   "metadata": {},
   "outputs": [
    {
     "name": "stdout",
     "output_type": "stream",
     "text": [
      "Zero-length reviews: 0\n",
      "Maximum review length: 2514\n"
     ]
    }
   ],
   "source": [
    "# Remove a review with the length of 0\n",
    "reviews_ints = [i for i in reviews_ints if len(i) > 0]\n",
    "\n",
    "review_lens = Counter([len(x) for x in reviews_ints])\n",
    "print('Zero-length reviews: {}'.format(review_lens[0]))\n",
    "print('Maximum review length: {}'.format(max(review_lens)))"
   ]
  },
  {
   "cell_type": "code",
   "execution_count": 87,
   "id": "7aeff87b",
   "metadata": {},
   "outputs": [],
   "source": [
    "# Sequence padding (pre)\n",
    "\n",
    "seq_len = 200\n",
    "\n",
    "features = []\n",
    "for review in reviews_ints:\n",
    "  if len(review) > 200:\n",
    "    features.append(review[:seq_len])\n",
    "  else:\n",
    "    while len(review) < 200:\n",
    "      review.insert(0, 0)\n",
    "    features.append(review)"
   ]
  },
  {
   "cell_type": "code",
   "execution_count": null,
   "id": "734dddff",
   "metadata": {},
   "outputs": [],
   "source": []
  },
  {
   "cell_type": "code",
   "execution_count": null,
   "id": "ab4ce200",
   "metadata": {},
   "outputs": [],
   "source": []
  },
  {
   "cell_type": "code",
   "execution_count": null,
   "id": "7da7378b",
   "metadata": {},
   "outputs": [],
   "source": []
  },
  {
   "cell_type": "code",
   "execution_count": null,
   "id": "2dc11899",
   "metadata": {},
   "outputs": [],
   "source": [
    "!git commit -am \"maximum and minimum review lengths\""
   ]
  }
 ],
 "metadata": {
  "kernelspec": {
   "display_name": "Python 3 (ipykernel)",
   "language": "python",
   "name": "python3"
  },
  "language_info": {
   "codemirror_mode": {
    "name": "ipython",
    "version": 3
   },
   "file_extension": ".py",
   "mimetype": "text/x-python",
   "name": "python",
   "nbconvert_exporter": "python",
   "pygments_lexer": "ipython3",
   "version": "3.10.9"
  }
 },
 "nbformat": 4,
 "nbformat_minor": 5
}
